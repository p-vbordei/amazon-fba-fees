{
 "cells": [
  {
   "cell_type": "code",
   "execution_count": 11,
   "metadata": {
    "ExecuteTime": {
     "end_time": "2020-11-16T21:54:49.739644Z",
     "start_time": "2020-11-16T21:54:49.733643Z"
    }
   },
   "outputs": [],
   "source": [
    "from unittest import TestCase\n",
    "from fba import Fees\n",
    "from decimal import Decimal\n",
    "import json\n",
    "import os"
   ]
  },
  {
   "cell_type": "code",
   "execution_count": 12,
   "metadata": {
    "ExecuteTime": {
     "end_time": "2020-11-16T21:54:50.218247Z",
     "start_time": "2020-11-16T21:54:50.214230Z"
    }
   },
   "outputs": [],
   "source": [
    "class AmazonProduct(object):\n",
    "    pass\n"
   ]
  },
  {
   "cell_type": "code",
   "execution_count": 13,
   "metadata": {
    "ExecuteTime": {
     "end_time": "2020-11-16T21:54:50.732293Z",
     "start_time": "2020-11-16T21:54:50.728293Z"
    }
   },
   "outputs": [],
   "source": [
    "amazon = AmazonProduct()"
   ]
  },
  {
   "cell_type": "code",
   "execution_count": 14,
   "metadata": {
    "ExecuteTime": {
     "end_time": "2020-11-16T21:54:51.238472Z",
     "start_time": "2020-11-16T21:54:51.233468Z"
    }
   },
   "outputs": [],
   "source": [
    "# Not standard since median side > 14\"\n",
    "amazon.shipping_length = l = Decimal(16.1)\n",
    "amazon.shipping_width = w = Decimal(15.9)\n",
    "amazon.shipping_height = h = Decimal(5.4)\n",
    "amazon.shipping_weight = wt = Decimal(3.55)\n",
    "\n",
    "fees = Fees(\"US\")\n",
    "\n",
    "fee = fees.get_fba_fee(amazon)"
   ]
  },
  {
   "cell_type": "code",
   "execution_count": 15,
   "metadata": {
    "ExecuteTime": {
     "end_time": "2020-11-16T21:54:52.463488Z",
     "start_time": "2020-11-16T21:54:52.457490Z"
    }
   },
   "outputs": [
    {
     "data": {
      "text/plain": [
       "Decimal('9.97')"
      ]
     },
     "execution_count": 15,
     "metadata": {},
     "output_type": "execute_result"
    }
   ],
   "source": [
    "fee"
   ]
  },
  {
   "cell_type": "code",
   "execution_count": null,
   "metadata": {},
   "outputs": [],
   "source": []
  }
 ],
 "metadata": {
  "hide_input": false,
  "kernelspec": {
   "display_name": "Python 3",
   "language": "python",
   "name": "python3"
  },
  "language_info": {
   "codemirror_mode": {
    "name": "ipython",
    "version": 3
   },
   "file_extension": ".py",
   "mimetype": "text/x-python",
   "name": "python",
   "nbconvert_exporter": "python",
   "pygments_lexer": "ipython3",
   "version": "3.7.9"
  },
  "varInspector": {
   "cols": {
    "lenName": 16,
    "lenType": 16,
    "lenVar": 40
   },
   "kernels_config": {
    "python": {
     "delete_cmd_postfix": "",
     "delete_cmd_prefix": "del ",
     "library": "var_list.py",
     "varRefreshCmd": "print(var_dic_list())"
    },
    "r": {
     "delete_cmd_postfix": ") ",
     "delete_cmd_prefix": "rm(",
     "library": "var_list.r",
     "varRefreshCmd": "cat(var_dic_list()) "
    }
   },
   "types_to_exclude": [
    "module",
    "function",
    "builtin_function_or_method",
    "instance",
    "_Feature"
   ],
   "window_display": false
  }
 },
 "nbformat": 4,
 "nbformat_minor": 4
}
